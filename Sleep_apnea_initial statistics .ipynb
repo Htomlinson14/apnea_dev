{
 "cells": [
  {
   "cell_type": "code",
   "execution_count": 187,
   "metadata": {
    "collapsed": true
   },
   "outputs": [],
   "source": [
    "# import \n",
    "import pandas as pd\n",
    "import numpy as np\n",
    "import datetime as dt\n",
    "import time \n",
    "%matplotlib inline \n",
    "import matplotlib.pyplot as plt "
   ]
  },
  {
   "cell_type": "code",
   "execution_count": 191,
   "metadata": {
    "collapsed": false
   },
   "outputs": [],
   "source": [
    "# load csv file \n",
    "load_file = '/Users/farahshamout/Desktop/RAIL/data.csv'\n",
    "data = pd.read_csv(load_file)"
   ]
  },
  {
   "cell_type": "code",
   "execution_count": 200,
   "metadata": {
    "collapsed": false
   },
   "outputs": [
    {
     "data": {
      "text/html": [
       "<div>\n",
       "<table border=\"1\" class=\"dataframe\">\n",
       "  <thead>\n",
       "    <tr style=\"text-align: right;\">\n",
       "      <th></th>\n",
       "      <th>term</th>\n",
       "      <th>bmi</th>\n",
       "      <th>age</th>\n",
       "      <th>tonsilsize</th>\n",
       "      <th>nrem</th>\n",
       "      <th>rem</th>\n",
       "      <th>sleepefficiency</th>\n",
       "      <th>arousali</th>\n",
       "      <th>tst50co2</th>\n",
       "      <th>zscore</th>\n",
       "      <th>ahi</th>\n",
       "      <th>oahi</th>\n",
       "      <th>cai</th>\n",
       "      <th>oai</th>\n",
       "      <th>ohi</th>\n",
       "      <th>lowsao2</th>\n",
       "      <th>peakc02</th>\n",
       "      <th>tb90</th>\n",
       "    </tr>\n",
       "  </thead>\n",
       "  <tbody>\n",
       "    <tr>\n",
       "      <th>count</th>\n",
       "      <td>439.000000</td>\n",
       "      <td>456.000000</td>\n",
       "      <td>456.000000</td>\n",
       "      <td>456.000000</td>\n",
       "      <td>456.000000</td>\n",
       "      <td>456.000000</td>\n",
       "      <td>456.000000</td>\n",
       "      <td>456.000000</td>\n",
       "      <td>456.000000</td>\n",
       "      <td>456.000000</td>\n",
       "      <td>456.000000</td>\n",
       "      <td>456.000000</td>\n",
       "      <td>456.000000</td>\n",
       "      <td>456.000000</td>\n",
       "      <td>456.000000</td>\n",
       "      <td>456.000000</td>\n",
       "      <td>456.000000</td>\n",
       "      <td>456.000000</td>\n",
       "    </tr>\n",
       "    <tr>\n",
       "      <th>mean</th>\n",
       "      <td>0.102506</td>\n",
       "      <td>26.863047</td>\n",
       "      <td>10.508655</td>\n",
       "      <td>2.385965</td>\n",
       "      <td>72.708991</td>\n",
       "      <td>16.980702</td>\n",
       "      <td>81.726096</td>\n",
       "      <td>15.389254</td>\n",
       "      <td>7.815132</td>\n",
       "      <td>1.590278</td>\n",
       "      <td>11.858553</td>\n",
       "      <td>8.698684</td>\n",
       "      <td>0.664474</td>\n",
       "      <td>3.896996</td>\n",
       "      <td>5.417390</td>\n",
       "      <td>88.046053</td>\n",
       "      <td>48.298246</td>\n",
       "      <td>1.407018</td>\n",
       "    </tr>\n",
       "    <tr>\n",
       "      <th>std</th>\n",
       "      <td>0.303658</td>\n",
       "      <td>10.561774</td>\n",
       "      <td>4.759669</td>\n",
       "      <td>0.942373</td>\n",
       "      <td>35.218159</td>\n",
       "      <td>6.601057</td>\n",
       "      <td>13.825466</td>\n",
       "      <td>15.924183</td>\n",
       "      <td>19.326153</td>\n",
       "      <td>1.097054</td>\n",
       "      <td>23.614481</td>\n",
       "      <td>16.209962</td>\n",
       "      <td>1.964702</td>\n",
       "      <td>15.446075</td>\n",
       "      <td>16.264809</td>\n",
       "      <td>7.116616</td>\n",
       "      <td>6.134650</td>\n",
       "      <td>6.196213</td>\n",
       "    </tr>\n",
       "    <tr>\n",
       "      <th>min</th>\n",
       "      <td>0.000000</td>\n",
       "      <td>14.161674</td>\n",
       "      <td>2.058864</td>\n",
       "      <td>1.000000</td>\n",
       "      <td>22.800000</td>\n",
       "      <td>0.000000</td>\n",
       "      <td>8.300000</td>\n",
       "      <td>1.600000</td>\n",
       "      <td>0.000000</td>\n",
       "      <td>-1.135029</td>\n",
       "      <td>0.000000</td>\n",
       "      <td>0.000000</td>\n",
       "      <td>0.000000</td>\n",
       "      <td>-0.200000</td>\n",
       "      <td>0.000000</td>\n",
       "      <td>51.000000</td>\n",
       "      <td>32.000000</td>\n",
       "      <td>0.000000</td>\n",
       "    </tr>\n",
       "    <tr>\n",
       "      <th>25%</th>\n",
       "      <td>0.000000</td>\n",
       "      <td>17.922654</td>\n",
       "      <td>5.823409</td>\n",
       "      <td>2.000000</td>\n",
       "      <td>68.000000</td>\n",
       "      <td>13.400000</td>\n",
       "      <td>75.700000</td>\n",
       "      <td>7.800000</td>\n",
       "      <td>0.000000</td>\n",
       "      <td>0.933396</td>\n",
       "      <td>0.900000</td>\n",
       "      <td>0.600000</td>\n",
       "      <td>0.000000</td>\n",
       "      <td>0.000000</td>\n",
       "      <td>0.000000</td>\n",
       "      <td>86.000000</td>\n",
       "      <td>44.000000</td>\n",
       "      <td>0.000000</td>\n",
       "    </tr>\n",
       "    <tr>\n",
       "      <th>50%</th>\n",
       "      <td>0.000000</td>\n",
       "      <td>24.472229</td>\n",
       "      <td>12.073973</td>\n",
       "      <td>2.000000</td>\n",
       "      <td>72.600000</td>\n",
       "      <td>17.800000</td>\n",
       "      <td>85.450000</td>\n",
       "      <td>10.850000</td>\n",
       "      <td>0.000000</td>\n",
       "      <td>1.883140</td>\n",
       "      <td>3.400000</td>\n",
       "      <td>2.600000</td>\n",
       "      <td>0.200000</td>\n",
       "      <td>0.200000</td>\n",
       "      <td>0.850000</td>\n",
       "      <td>90.000000</td>\n",
       "      <td>48.000000</td>\n",
       "      <td>0.000000</td>\n",
       "    </tr>\n",
       "    <tr>\n",
       "      <th>75%</th>\n",
       "      <td>0.000000</td>\n",
       "      <td>33.120368</td>\n",
       "      <td>14.447945</td>\n",
       "      <td>3.000000</td>\n",
       "      <td>76.900000</td>\n",
       "      <td>21.125000</td>\n",
       "      <td>91.625000</td>\n",
       "      <td>16.125000</td>\n",
       "      <td>1.400000</td>\n",
       "      <td>2.416769</td>\n",
       "      <td>11.225000</td>\n",
       "      <td>9.400000</td>\n",
       "      <td>0.600000</td>\n",
       "      <td>1.592500</td>\n",
       "      <td>3.720000</td>\n",
       "      <td>92.250000</td>\n",
       "      <td>52.000000</td>\n",
       "      <td>0.225000</td>\n",
       "    </tr>\n",
       "    <tr>\n",
       "      <th>max</th>\n",
       "      <td>1.000000</td>\n",
       "      <td>72.797430</td>\n",
       "      <td>17.954826</td>\n",
       "      <td>4.000000</td>\n",
       "      <td>793.700000</td>\n",
       "      <td>31.100000</td>\n",
       "      <td>99.000000</td>\n",
       "      <td>128.800000</td>\n",
       "      <td>99.600000</td>\n",
       "      <td>4.990000</td>\n",
       "      <td>187.700000</td>\n",
       "      <td>124.700000</td>\n",
       "      <td>31.000000</td>\n",
       "      <td>188.500000</td>\n",
       "      <td>188.500000</td>\n",
       "      <td>98.000000</td>\n",
       "      <td>80.000000</td>\n",
       "      <td>64.000000</td>\n",
       "    </tr>\n",
       "  </tbody>\n",
       "</table>\n",
       "</div>"
      ],
      "text/plain": [
       "             term         bmi         age  tonsilsize        nrem         rem  \\\n",
       "count  439.000000  456.000000  456.000000  456.000000  456.000000  456.000000   \n",
       "mean     0.102506   26.863047   10.508655    2.385965   72.708991   16.980702   \n",
       "std      0.303658   10.561774    4.759669    0.942373   35.218159    6.601057   \n",
       "min      0.000000   14.161674    2.058864    1.000000   22.800000    0.000000   \n",
       "25%      0.000000   17.922654    5.823409    2.000000   68.000000   13.400000   \n",
       "50%      0.000000   24.472229   12.073973    2.000000   72.600000   17.800000   \n",
       "75%      0.000000   33.120368   14.447945    3.000000   76.900000   21.125000   \n",
       "max      1.000000   72.797430   17.954826    4.000000  793.700000   31.100000   \n",
       "\n",
       "       sleepefficiency    arousali    tst50co2      zscore         ahi  \\\n",
       "count       456.000000  456.000000  456.000000  456.000000  456.000000   \n",
       "mean         81.726096   15.389254    7.815132    1.590278   11.858553   \n",
       "std          13.825466   15.924183   19.326153    1.097054   23.614481   \n",
       "min           8.300000    1.600000    0.000000   -1.135029    0.000000   \n",
       "25%          75.700000    7.800000    0.000000    0.933396    0.900000   \n",
       "50%          85.450000   10.850000    0.000000    1.883140    3.400000   \n",
       "75%          91.625000   16.125000    1.400000    2.416769   11.225000   \n",
       "max          99.000000  128.800000   99.600000    4.990000  187.700000   \n",
       "\n",
       "             oahi         cai         oai         ohi     lowsao2     peakc02  \\\n",
       "count  456.000000  456.000000  456.000000  456.000000  456.000000  456.000000   \n",
       "mean     8.698684    0.664474    3.896996    5.417390   88.046053   48.298246   \n",
       "std     16.209962    1.964702   15.446075   16.264809    7.116616    6.134650   \n",
       "min      0.000000    0.000000   -0.200000    0.000000   51.000000   32.000000   \n",
       "25%      0.600000    0.000000    0.000000    0.000000   86.000000   44.000000   \n",
       "50%      2.600000    0.200000    0.200000    0.850000   90.000000   48.000000   \n",
       "75%      9.400000    0.600000    1.592500    3.720000   92.250000   52.000000   \n",
       "max    124.700000   31.000000  188.500000  188.500000   98.000000   80.000000   \n",
       "\n",
       "             tb90  \n",
       "count  456.000000  \n",
       "mean     1.407018  \n",
       "std      6.196213  \n",
       "min      0.000000  \n",
       "25%      0.000000  \n",
       "50%      0.000000  \n",
       "75%      0.225000  \n",
       "max     64.000000  "
      ]
     },
     "execution_count": 200,
     "metadata": {},
     "output_type": "execute_result"
    }
   ],
   "source": [
    "data.describe()"
   ]
  },
  {
   "cell_type": "code",
   "execution_count": 192,
   "metadata": {
    "collapsed": false
   },
   "outputs": [
    {
     "data": {
      "text/html": [
       "<div>\n",
       "<table border=\"1\" class=\"dataframe\">\n",
       "  <thead>\n",
       "    <tr style=\"text-align: right;\">\n",
       "      <th></th>\n",
       "      <th>All</th>\n",
       "      <th>Females</th>\n",
       "      <th>Males</th>\n",
       "    </tr>\n",
       "  </thead>\n",
       "  <tbody>\n",
       "    <tr>\n",
       "      <th>% of patient cohort</th>\n",
       "      <td>100.000000</td>\n",
       "      <td>47.807018</td>\n",
       "      <td>52.192982</td>\n",
       "    </tr>\n",
       "    <tr>\n",
       "      <th>Average age</th>\n",
       "      <td>10.508655</td>\n",
       "      <td>10.785476</td>\n",
       "      <td>10.255096</td>\n",
       "    </tr>\n",
       "    <tr>\n",
       "      <th>% OSA (ahi&gt;5)</th>\n",
       "      <td>40.570175</td>\n",
       "      <td>36.238532</td>\n",
       "      <td>44.537815</td>\n",
       "    </tr>\n",
       "    <tr>\n",
       "      <th>%allergies</th>\n",
       "      <td>35.087719</td>\n",
       "      <td>37.614679</td>\n",
       "      <td>32.773109</td>\n",
       "    </tr>\n",
       "    <tr>\n",
       "      <th>%allergies AND OSA</th>\n",
       "      <td>14.254386</td>\n",
       "      <td>14.220183</td>\n",
       "      <td>14.285714</td>\n",
       "    </tr>\n",
       "    <tr>\n",
       "      <th>%asthma</th>\n",
       "      <td>28.728070</td>\n",
       "      <td>26.146789</td>\n",
       "      <td>31.092437</td>\n",
       "    </tr>\n",
       "    <tr>\n",
       "      <th>%asthma AND OSA</th>\n",
       "      <td>11.184211</td>\n",
       "      <td>9.174312</td>\n",
       "      <td>13.025210</td>\n",
       "    </tr>\n",
       "    <tr>\n",
       "      <th>%gerd</th>\n",
       "      <td>7.017544</td>\n",
       "      <td>5.963303</td>\n",
       "      <td>7.983193</td>\n",
       "    </tr>\n",
       "    <tr>\n",
       "      <th>% gerd AND OSA</th>\n",
       "      <td>1.973684</td>\n",
       "      <td>1.834862</td>\n",
       "      <td>2.100840</td>\n",
       "    </tr>\n",
       "    <tr>\n",
       "      <th>% AAG</th>\n",
       "      <td>3.289474</td>\n",
       "      <td>3.211009</td>\n",
       "      <td>3.361345</td>\n",
       "    </tr>\n",
       "    <tr>\n",
       "      <th>% AAG AND OSA</th>\n",
       "      <td>0.877193</td>\n",
       "      <td>0.917431</td>\n",
       "      <td>0.840336</td>\n",
       "    </tr>\n",
       "  </tbody>\n",
       "</table>\n",
       "</div>"
      ],
      "text/plain": [
       "                            All    Females      Males\n",
       "% of patient cohort  100.000000  47.807018  52.192982\n",
       "Average age           10.508655  10.785476  10.255096\n",
       "% OSA (ahi>5)         40.570175  36.238532  44.537815\n",
       "%allergies            35.087719  37.614679  32.773109\n",
       "%allergies AND OSA    14.254386  14.220183  14.285714\n",
       "%asthma               28.728070  26.146789  31.092437\n",
       "%asthma AND OSA       11.184211   9.174312  13.025210\n",
       "%gerd                  7.017544   5.963303   7.983193\n",
       "% gerd AND OSA         1.973684   1.834862   2.100840\n",
       "% AAG                  3.289474   3.211009   3.361345\n",
       "% AAG AND OSA          0.877193   0.917431   0.840336"
      ]
     },
     "execution_count": 192,
     "metadata": {},
     "output_type": "execute_result"
    }
   ],
   "source": [
    "# Initial statistics i.e. gender, age, and investigations of asthma, allergies and gerd \n",
    "# Note that:\n",
    "    #AAG refers to asthma AND allergies AND gerd\n",
    "    \n",
    "stats_labels = ['% of patient cohort', \n",
    "                'Average age', \n",
    "                '% OSA (ahi>5)', \n",
    "                '%allergies ',\n",
    "                '%allergies AND OSA',\n",
    "                '%asthma', \n",
    "                '%asthma AND OSA',\n",
    "                '%gerd ',\n",
    "                '% gerd AND OSA',\n",
    "                '% AAG',                \n",
    "                '% AAG AND OSA']\n",
    "data_male = data.loc[data['gender'] == 'Male']\n",
    "data_female = data.loc[data['gender'] == 'Female']\n",
    "init_stats_dict = {'All': [100, \n",
    "                           data['age'].mean(), \n",
    "                           len(data.loc[data['ahi']>5])*100/len(data),\n",
    "                           len(data.loc[data['allergies']=='Yes'])*100/len(data), \n",
    "                           len(data.loc[(data['allergies']=='Yes') & (data['ahi']>5)])*100/len(data), \n",
    "                           len(data.loc[data['asthma']=='Yes'])*100/len(data), \n",
    "                           len(data.loc[(data['asthma']=='Yes')& (data['ahi']>5)])*100/len(data), \n",
    "                           len(data.loc[data['gerd']=='Yes'])*100/len(data),\n",
    "                           len(data.loc[(data['gerd']=='Yes')& (data['ahi']>5)])*100/len(data),\n",
    "                           len(data.loc[(data['gerd']=='Yes')& (data['asthma']=='Yes') & (data['allergies']=='Yes')])*100/len(data),\n",
    "                           len(data.loc[(data['gerd']=='Yes')& (data['asthma']=='Yes') & (data['allergies']=='Yes') &(data['ahi']>5)])*100/len(data)], \n",
    "                   'Females':[len(data_female)*100/len(data), \n",
    "                            data_female['age'].mean(), \n",
    "                            len(data_female.loc[data_female['ahi']>5])*100/len(data_female),\n",
    "                            len(data_female.loc[data_female['allergies']=='Yes'])*100/len(data_female), \n",
    "                            len(data_female.loc[(data_female['allergies']=='Yes')& (data_female['ahi']>5)])*100/len(data_female),\n",
    "                            len(data_female.loc[data_female['asthma']=='Yes'])*100/len(data_female), \n",
    "                            len(data_female.loc[(data_female['asthma']=='Yes') & (data_female['ahi']>5)])*100/len(data_female), \n",
    "                            len(data_female.loc[data_female['gerd']=='Yes'])*100/len(data_female),\n",
    "                            len(data_female.loc[(data_female['gerd']=='Yes') & (data_female['ahi']>5)])*100/len(data_female),\n",
    "                            len(data_female.loc[(data_female['gerd']=='Yes')& (data_female['asthma']=='Yes') & (data_female['allergies']=='Yes')])*100/len(data_female), \n",
    "                            len(data_female.loc[(data_female['gerd']=='Yes')& (data_female['asthma']=='Yes') & (data_female['allergies']=='Yes') &(data_female['ahi']>5)])*100/len(data_female)], \n",
    "                   'Males':[len(data_male)*100/len(data), \n",
    "                            data_male['age'].mean(), \n",
    "                            len(data_male.loc[data_male['ahi']>5])*100/len(data_male),\n",
    "                            len(data_male.loc[data_male['allergies']=='Yes'])*100/len(data_male), \n",
    "                            len(data_male.loc[(data_male['allergies']=='Yes')& (data_male['ahi']>5)])*100/len(data_male), \n",
    "                            len(data_male.loc[data_male['asthma']=='Yes'])*100/len(data_male),\n",
    "                            len(data_male.loc[(data_male['asthma']=='Yes') & (data_male['ahi']>5)])*100/len(data_male),\n",
    "                            len(data_male.loc[data_male['gerd']=='Yes'])*100/len(data_male),\n",
    "                            len(data_male.loc[(data_male['gerd']=='Yes')& (data_male['ahi']>5)])*100/len(data_male),\n",
    "                            len(data_male.loc[(data_male['gerd']=='Yes')& (data_male['asthma']=='Yes') & (data_male['allergies']=='Yes')])*100/len(data_male), \n",
    "                            len(data_male.loc[(data_male['gerd']=='Yes')& (data_male['asthma']=='Yes') & (data_male['allergies']=='Yes') & (data_male['ahi']>5)])*100/len(data_male)], \n",
    "                  }\n",
    "init_stats_df = pd.DataFrame(init_stats_dict, index = stats_labels )\n",
    "\n",
    "init_stats_df"
   ]
  },
  {
   "cell_type": "code",
   "execution_count": 194,
   "metadata": {
    "collapsed": false
   },
   "outputs": [
    {
     "data": {
      "text/plain": [
       "<matplotlib.axes._subplots.AxesSubplot at 0x1094c7eb8>"
      ]
     },
     "execution_count": 194,
     "metadata": {},
     "output_type": "execute_result"
    },
    {
     "data": {
      "image/png": "[encoded data removed]",
      "text/plain": [
       "<matplotlib.figure.Figure at 0x1095267f0>"
      ]
     },
     "metadata": {},
     "output_type": "display_data"
    }
   ],
   "source": [
    "# Investigation of tonsil size \n",
    "data.plot(kind = 'scatter', x='ahi', y='tonsilsize')"
   ]
  },
  {
   "cell_type": "code",
   "execution_count": 183,
   "metadata": {
    "collapsed": false
   },
   "outputs": [
    {
     "data": {
      "text/plain": [
       "<matplotlib.axes._subplots.AxesSubplot at 0x108ea4668>"
      ]
     },
     "execution_count": 183,
     "metadata": {},
     "output_type": "execute_result"
    },
    {
     "data": {
      "image/png": "[encoded data removed]",
      "text/plain": [
       "<matplotlib.figure.Figure at 0x1093bf550>"
      ]
     },
     "metadata": {},
     "output_type": "display_data"
    }
   ],
   "source": [
    "# Investigation of bmi\n",
    "data.plot(kind = 'scatter', x='ahi', y='bmi', c = 'tonsilsize', s = 30, sharex = 'false')"
   ]
  },
  {
   "cell_type": "code",
   "execution_count": 199,
   "metadata": {
    "collapsed": false
   },
   "outputs": [
    {
     "data": {
      "text/plain": [
       "<function matplotlib.pyplot.show>"
      ]
     },
     "execution_count": 199,
     "metadata": {},
     "output_type": "execute_result"
    },
    {
     "data": {
      "image/png": "[encoded data removed]",
      "text/plain": [
       "<matplotlib.figure.Figure at 0x1098247b8>"
      ]
     },
     "metadata": {},
     "output_type": "display_data"
    }
   ],
   "source": [
    "# Extract data diagnosed by OSA based on ahi\n",
    "# ahi \n",
    "OSA_data = data.loc[data['ahi']>5]\n",
    "non_OSA = data.loc[data['ahi'] <=5]\n",
    "plt.hist(non_OSA['tst50co2'], alpha = 0.5)\n",
    "plt.hist(OSA_data['tst50co2'], color = 'red', alpha = 0.5)\n",
    "plt.ylabel('Count')\n",
    "plt.xlabel('tst50co2')\n",
    "plt.show"
   ]
  },
  {
   "cell_type": "code",
   "execution_count": null,
   "metadata": {
    "collapsed": true
   },
   "outputs": [],
   "source": []
  }
 ],
 "metadata": {
  "kernelspec": {
   "display_name": "Python 3",
   "language": "python",
   "name": "python3"
  },
  "language_info": {
   "codemirror_mode": {
    "name": "ipython",
    "version": 3
   },
   "file_extension": ".py",
   "mimetype": "text/x-python",
   "name": "python",
   "nbconvert_exporter": "python",
   "pygments_lexer": "ipython3",
   "version": "3.5.2"
  }
 },
 "nbformat": 4,
 "nbformat_minor": 2
}
