{
 "cells": [
  {
   "cell_type": "code",
   "execution_count": 24,
   "metadata": {
    "collapsed": false
   },
   "outputs": [],
   "source": [
    "import pandas as pd\n",
    "import seaborn as sns\n",
    "%matplotlib inline"
   ]
  },
  {
   "cell_type": "markdown",
   "metadata": {},
   "source": [
    "# Create Data"
   ]
  },
  {
   "cell_type": "code",
   "execution_count": 27,
   "metadata": {
    "collapsed": false
   },
   "outputs": [],
   "source": [
    "data = pd.read_excel(\"/Users/Logan/Downloads/UMD Sleep Apnea data.xls\")\n",
    "data['gt5'] = data.ahi > 5\n",
    "\n",
    "# Fix all dummy data\n",
    "X = pd.concat((data.copy().iloc[:,:9], data.copy()['zscore']), axis=1)\n",
    "\n",
    "gender = pd.get_dummies(X.gender).iloc[:,0] # choose just one out of two columns\n",
    "\n",
    "ethnicity = pd.get_dummies(X.ethnicity).iloc[:,:-1] # choose every column but the last, due to collinearity\n",
    "\n",
    "allergies = pd.DataFrame(pd.get_dummies(X.allergies).iloc[:,0])\n",
    "allergies.columns = ['allergies']\n",
    "\n",
    "asthma = pd.DataFrame(pd.get_dummies(X.asthma).iloc[:,0])\n",
    "asthma.columns = ['asthma']\n",
    "\n",
    "gerd = pd.DataFrame(pd.get_dummies(X.gerd).iloc[:,0])\n",
    "gerd.columns = ['gerd']\n",
    "\n",
    "tonsilsize = pd.get_dummies(X.tonsilsize).iloc[:,:-1]\n",
    "tonsilsize.columns = ['tsize1', 'tsize2', 'tsize3']\n",
    "\n",
    "new_X = pd.concat((gender, ethnicity, allergies, asthma, gerd, tonsilsize), axis=1) # form final dataset\n",
    "X = pd.concat((data[['bmi', 'zscore', 'age', 'term', 'gt5', 'ahi']], new_X), axis=1) # add in numeric data\n",
    "full_data = X\n",
    "\n",
    "X = X.dropna() # drop null data\n",
    "\n",
    "y = X['gt5'] # set ahi > 5 as y\n",
    "X = X.drop(['gt5'], axis=1) # remove ahi > 5 from input data"
   ]
  },
  {
   "cell_type": "code",
   "execution_count": 29,
   "metadata": {
    "collapsed": false
   },
   "outputs": [],
   "source": [
    "X = X[\"ahi bmi zscore age term Female Asian Black Hispanic allergies asthma gerd tsize1 tsize2 tsize3\".split()]"
   ]
  },
  {
   "cell_type": "code",
   "execution_count": 31,
   "metadata": {
    "collapsed": false
   },
   "outputs": [],
   "source": [
    "X.to_csv(\"../../data/binarized_data.csv\", index=False)"
   ]
  },
  {
   "cell_type": "markdown",
   "metadata": {},
   "source": [
    "> ```full_data```   = all data, with   ```gt5```   and   ```ahi```  \n",
    ">\n",
    "> ```X```   = just binarized data\n",
    ">\n",
    "> ```y```   = just    ```gt5```"
   ]
  },
  {
   "cell_type": "markdown",
   "metadata": {},
   "source": [
    "# Export this data"
   ]
  },
  {
   "cell_type": "code",
   "execution_count": null,
   "metadata": {
    "collapsed": true
   },
   "outputs": [],
   "source": []
  }
 ],
 "metadata": {
  "kernelspec": {
   "display_name": "Python 2",
   "language": "python",
   "name": "python2"
  },
  "language_info": {
   "codemirror_mode": {
    "name": "ipython",
    "version": 2
   },
   "file_extension": ".py",
   "mimetype": "text/x-python",
   "name": "python",
   "nbconvert_exporter": "python",
   "pygments_lexer": "ipython2",
   "version": "2.7.11"
  }
 },
 "nbformat": 4,
 "nbformat_minor": 0
}
