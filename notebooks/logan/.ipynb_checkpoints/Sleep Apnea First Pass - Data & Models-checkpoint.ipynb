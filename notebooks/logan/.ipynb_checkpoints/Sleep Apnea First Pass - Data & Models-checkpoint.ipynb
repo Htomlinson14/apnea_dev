{
 "cells": [
  {
   "cell_type": "code",
   "execution_count": 93,
   "metadata": {
    "collapsed": true
   },
   "outputs": [],
   "source": [
    "import pandas as pd\n",
    "import numpy as np\n",
    "from sklearn.\n",
    "from sklearn.ensemble import RandomForestClassifier\n",
    "from sklearn.cross_validation import train_test_split"
   ]
  },
  {
   "cell_type": "code",
   "execution_count": 64,
   "metadata": {
    "collapsed": true
   },
   "outputs": [],
   "source": [
    "# Creating a clean data file; file now \"../data/binarized_data.csv\"\n",
    "\n",
    "data = pd.read_excel(\"/Users/Logan/Downloads/UMD Sleep Apnea data.xls\")\n",
    "data['gt5'] = data.ahi > 5\n",
    "\n",
    "X = data.copy().iloc[:,:9]\n",
    "gender = pd.get_dummies(X.gender).iloc[:,0]\n",
    "ethnicity = pd.get_dummies(X.ethnicity).iloc[:,:-1]\n",
    "allergies = pd.DataFrame(pd.get_dummies(X.allergies).iloc[:,0])\n",
    "allergies.columns = ['allergies']\n",
    "asthma = pd.DataFrame(pd.get_dummies(X.asthma).iloc[:,0])\n",
    "asthma.columns = ['asthma']\n",
    "gerd = pd.DataFrame(pd.get_dummies(X.gerd).iloc[:,0])\n",
    "gerd.columns = ['gerd']\n",
    "tonsilsize = pd.get_dummies(X.tonsilsize).iloc[:,:-1]\n",
    "tonsilsize.columns = ['tsize1', 'tsize2', 'tsize3']\n",
    "\n",
    "new_X = pd.concat((gender, ethnicity, allergies, asthma, gerd, tonsilsize), axis=1)\n",
    "X = pd.concat((data[['bmi', 'age', 'term', 'gt5']], new_X), axis=1)\n",
    "\n",
    "X = X.dropna()\n",
    "\n",
    "y = X['gt5']\n",
    "X = X.drop('gt5', axis=1)"
   ]
  },
  {
   "cell_type": "markdown",
   "metadata": {},
   "source": [
    "# Create Metric Functions"
   ]
  },
  {
   "cell_type": "code",
   "execution_count": 1,
   "metadata": {
    "collapsed": true
   },
   "outputs": [],
   "source": [
    "def sensitivity(predictions, actual):\n",
    "    positives = (actual == True)\n",
    "    found_positives = predictions[positives]\n",
    "    sensitivity = np.mean(found_positives == True)\n",
    "    return sensitivity"
   ]
  },
  {
   "cell_type": "code",
   "execution_count": 2,
   "metadata": {
    "collapsed": true
   },
   "outputs": [],
   "source": [
    "def specificity(predictions, actual):\n",
    "    negatives = (actual == False)\n",
    "    found_negatives = predictions[negatives]\n",
    "    sensitivity = np.mean(found_negatives == True)\n",
    "    return sensitivity"
   ]
  },
  {
   "cell_type": "markdown",
   "metadata": {
    "collapsed": false
   },
   "source": [
    "# Random Fore Model"
   ]
  },
  {
   "cell_type": "code",
   "execution_count": 86,
   "metadata": {
    "collapsed": false
   },
   "outputs": [],
   "source": [
    "X_train, X_test, y_train, y_test = train_test_split(X, y)"
   ]
  },
  {
   "cell_type": "code",
   "execution_count": 141,
   "metadata": {
    "collapsed": false
   },
   "outputs": [],
   "source": [
    "m = RandomForestClassifier()\n",
    "m.fit(X_train, y_train)\n",
    "predictions = m.predict(X_test)"
   ]
  },
  {
   "cell_type": "code",
   "execution_count": 148,
   "metadata": {
    "collapsed": false
   },
   "outputs": [
    {
     "name": "stderr",
     "output_type": "stream",
     "text": [
      "/Users/Logan/anaconda/envs/dev/lib/python2.7/site-packages/ipykernel/__main__.py:3: FutureWarning: in the future, boolean array-likes will be handled as a boolean array index\n",
      "  app.launch_new_instance()\n"
     ]
    },
    {
     "data": {
      "text/plain": [
       "0.40909090909090912"
      ]
     },
     "execution_count": 148,
     "metadata": {},
     "output_type": "execute_result"
    }
   ],
   "source": [
    "sensitivity(predictions, y_test)"
   ]
  },
  {
   "cell_type": "code",
   "execution_count": 149,
   "metadata": {
    "collapsed": false
   },
   "outputs": [
    {
     "name": "stderr",
     "output_type": "stream",
     "text": [
      "/Users/Logan/anaconda/envs/dev/lib/python2.7/site-packages/ipykernel/__main__.py:9: FutureWarning: in the future, boolean array-likes will be handled as a boolean array index\n"
     ]
    },
    {
     "data": {
      "text/plain": [
       "0.59090909090909094"
      ]
     },
     "execution_count": 149,
     "metadata": {},
     "output_type": "execute_result"
    }
   ],
   "source": [
    "specificity(predictions, y_test)"
   ]
  },
  {
   "cell_type": "code",
   "execution_count": null,
   "metadata": {
    "collapsed": true
   },
   "outputs": [],
   "source": []
  }
 ],
 "metadata": {
  "kernelspec": {
   "display_name": "Python 2",
   "language": "python",
   "name": "python2"
  },
  "language_info": {
   "codemirror_mode": {
    "name": "ipython",
    "version": 2
   },
   "file_extension": ".py",
   "mimetype": "text/x-python",
   "name": "python",
   "nbconvert_exporter": "python",
   "pygments_lexer": "ipython2",
   "version": "2.7.11"
  }
 },
 "nbformat": 4,
 "nbformat_minor": 0
}
