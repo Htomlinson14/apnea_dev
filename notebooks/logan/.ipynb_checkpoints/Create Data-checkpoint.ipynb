{
 "cells": [
  {
   "cell_type": "code",
   "execution_count": 1,
   "metadata": {
    "collapsed": true
   },
   "outputs": [],
   "source": [
    "import pandas as pd"
   ]
  },
  {
   "cell_type": "markdown",
   "metadata": {},
   "source": [
    "# Create Data"
   ]
  },
  {
   "cell_type": "code",
   "execution_count": 7,
   "metadata": {
    "collapsed": true
   },
   "outputs": [],
   "source": [
    "data = pd.read_excel(\"/Users/Logan/Downloads/UMD Sleep Apnea data.xls\")\n",
    "data['gt5'] = data.ahi > 5\n",
    "\n",
    "# Fix all dummy data\n",
    "X = data.copy().iloc[:,:9]\n",
    "\n",
    "gender = pd.get_dummies(X.gender).iloc[:,0] # choose just one out of two columns\n",
    "\n",
    "ethnicity = pd.get_dummies(X.ethnicity).iloc[:,:-1] # choose every column but the last, due to collinearity\n",
    "\n",
    "allergies = pd.DataFrame(pd.get_dummies(X.allergies).iloc[:,0])\n",
    "allergies.columns = ['allergies']\n",
    "\n",
    "asthma = pd.DataFrame(pd.get_dummies(X.asthma).iloc[:,0])\n",
    "asthma.columns = ['asthma']\n",
    "\n",
    "gerd = pd.DataFrame(pd.get_dummies(X.gerd).iloc[:,0])\n",
    "gerd.columns = ['gerd']\n",
    "\n",
    "tonsilsize = pd.get_dummies(X.tonsilsize).iloc[:,:-1]\n",
    "tonsilsize.columns = ['tsize1', 'tsize2', 'tsize3']\n",
    "\n",
    "new_X = pd.concat((gender, ethnicity, allergies, asthma, gerd, tonsilsize), axis=1) # form final dataset\n",
    "X = pd.concat((data[['bmi', 'age', 'term', 'gt5', 'ahi']], new_X), axis=1) # add in numeric data\n",
    "full_data = X\n",
    "\n",
    "X = X.dropna() # drop null data\n",
    "\n",
    "y = X['gt5'] # set ahi > 5 as y\n",
    "X = X.drop('gt5', axis=1) # remove ahi > 5 from input data"
   ]
  },
  {
   "cell_type": "markdown",
   "metadata": {},
   "source": [
    "> ```full_data```   = all data, with   ```gt5```   and   ```ahi```  \n",
    ">\n",
    "> ```X```   = just binarized data\n",
    ">\n",
    "> ```y```   = just    ```gt5```"
   ]
  },
  {
   "cell_type": "markdown",
   "metadata": {},
   "source": [
    "# Export this data"
   ]
  },
  {
   "cell_type": "code",
   "execution_count": null,
   "metadata": {
    "collapsed": true
   },
   "outputs": [],
   "source": []
  }
 ],
 "metadata": {
  "kernelspec": {
   "display_name": "Python 2",
   "language": "python",
   "name": "python2"
  },
  "language_info": {
   "codemirror_mode": {
    "name": "ipython",
    "version": 2
   },
   "file_extension": ".py",
   "mimetype": "text/x-python",
   "name": "python",
   "nbconvert_exporter": "python",
   "pygments_lexer": "ipython2",
   "version": "2.7.11"
  }
 },
 "nbformat": 4,
 "nbformat_minor": 0
}
