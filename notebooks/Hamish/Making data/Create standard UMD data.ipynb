{
 "cells": [
  {
   "cell_type": "code",
   "execution_count": 6,
   "metadata": {
    "collapsed": true
   },
   "outputs": [],
   "source": [
    "# Imports\n",
    "import pandas as pd\n",
    "import numpy as np\n",
    "from sklearn.model_selection import StratifiedKFold"
   ]
  },
  {
   "cell_type": "code",
   "execution_count": 7,
   "metadata": {
    "collapsed": false
   },
   "outputs": [],
   "source": [
    "# Load data\n",
    "data_file = '../../../data/original/UMD Sleep Apnea data.csv'\n",
    "data = pd.read_csv(data_file)\n",
    "\n",
    "# Define variables\n",
    "categorical_variables = [\"gender\", \"ethnicity\", \"allergies\", \"asthma\", \"gerd\"]\n",
    "final_variables = ['ahi', 'rem', 'nrem', 'tonsilsize_3-4', 'gender_Male', 'age', 'bmi', 'zscore', \\\n",
    "                   'term', 'allergies_Yes', 'asthma_Yes', 'gerd_Yes', 'ethnicity_Hispanic', \\\n",
    "                   'ethnicity_White', 'ethnicity_Black', 'ethnicity_Asian', 'tst50co2', 'sleepefficiency', \\\n",
    "                   'arousali', 'oai', 'cai', 'tb90', 'lowsao2', 'peakc02', 'oahi', 'ohi']\n",
    "\n",
    "# Set AHI threshold\n",
    "ahi_thresh = 5\n",
    "\n",
    "# Remove NAs from data\n",
    "data[\"term\"].fillna(0, inplace=True)\n",
    "\n",
    "# Encode categorical data\n",
    "for cat_label in categorical_variables:\n",
    "    if cat_label is \"ethnicity\":\n",
    "        temp = pd.get_dummies(data[cat_label], drop_first=False)\n",
    "    else:\n",
    "        temp = pd.get_dummies(data[cat_label], drop_first=True)\n",
    "    name_dict = {old_name:cat_label + \"_\" + str(old_name) for old_name in temp.columns}\n",
    "    temp.rename(columns=name_dict,inplace=True)\n",
    "    data = pd.concat((data, temp),axis=1)\n",
    "\n",
    "# Rescale tonsilsize from 0-4 to 0-1 (0 for 0-2 and 1 for 3-4)\n",
    "data['tonsilsize_3-4'] = data['tonsilsize'].replace(to_replace=[0,1,2,3,4], value=[0,0,0,1,1])\n",
    "\n",
    "# Create final dataset\n",
    "umd_data = data[final_variables].copy()"
   ]
  },
  {
   "cell_type": "code",
   "execution_count": 8,
   "metadata": {
    "collapsed": false,
    "scrolled": true
   },
   "outputs": [
    {
     "name": "stdout",
     "output_type": "stream",
     "text": [
      "                    count       mean        std        min        25%  \\\n",
      "ahi                 456.0  11.858553  23.614481   0.000000   0.900000   \n",
      "rem                 456.0  16.980702   6.601057   0.000000  13.400000   \n",
      "nrem                456.0  72.708991  35.218159  22.800000  68.000000   \n",
      "tonsilsize_3-4      456.0   0.478070   0.500067   0.000000   0.000000   \n",
      "gender_Male         456.0   0.521930   0.500067   0.000000   0.000000   \n",
      "age                 456.0  10.508655   4.759669   2.058864   5.823409   \n",
      "bmi                 456.0  26.863047  10.561774  14.161674  17.922654   \n",
      "zscore              456.0   1.590278   1.097054  -1.135029   0.933396   \n",
      "term                456.0   0.098684   0.298565   0.000000   0.000000   \n",
      "allergies_Yes       456.0   0.350877   0.477769   0.000000   0.000000   \n",
      "asthma_Yes          456.0   0.287281   0.452991   0.000000   0.000000   \n",
      "gerd_Yes            456.0   0.070175   0.255723   0.000000   0.000000   \n",
      "ethnicity_Hispanic  456.0   0.563596   0.496484   0.000000   0.000000   \n",
      "ethnicity_White     456.0   0.144737   0.352222   0.000000   0.000000   \n",
      "ethnicity_Black     456.0   0.256579   0.437225   0.000000   0.000000   \n",
      "ethnicity_Asian     456.0   0.035088   0.184204   0.000000   0.000000   \n",
      "tst50co2            456.0   7.815132  19.326153   0.000000   0.000000   \n",
      "sleepefficiency     456.0  81.726096  13.825466   8.300000  75.700000   \n",
      "arousali            456.0  15.389254  15.924183   1.600000   7.800000   \n",
      "oai                 456.0   3.896996  15.446075  -0.200000   0.000000   \n",
      "cai                 456.0   0.664474   1.964702   0.000000   0.000000   \n",
      "tb90                456.0   1.407018   6.196213   0.000000   0.000000   \n",
      "lowsao2             456.0  88.046053   7.116616  51.000000  86.000000   \n",
      "peakc02             456.0  48.298246   6.134650  32.000000  44.000000   \n",
      "oahi                456.0   8.698684  16.209962   0.000000   0.600000   \n",
      "ohi                 456.0   5.417390  16.264809   0.000000   0.000000   \n",
      "\n",
      "                          50%        75%         max  \n",
      "ahi                  3.400000  11.225000  187.700000  \n",
      "rem                 17.800000  21.125000   31.100000  \n",
      "nrem                72.600000  76.900000  793.700000  \n",
      "tonsilsize_3-4       0.000000   1.000000    1.000000  \n",
      "gender_Male          1.000000   1.000000    1.000000  \n",
      "age                 12.073973  14.447945   17.954826  \n",
      "bmi                 24.472229  33.120368   72.797430  \n",
      "zscore               1.883140   2.416769    4.990000  \n",
      "term                 0.000000   0.000000    1.000000  \n",
      "allergies_Yes        0.000000   1.000000    1.000000  \n",
      "asthma_Yes           0.000000   1.000000    1.000000  \n",
      "gerd_Yes             0.000000   0.000000    1.000000  \n",
      "ethnicity_Hispanic   1.000000   1.000000    1.000000  \n",
      "ethnicity_White      0.000000   0.000000    1.000000  \n",
      "ethnicity_Black      0.000000   1.000000    1.000000  \n",
      "ethnicity_Asian      0.000000   0.000000    1.000000  \n",
      "tst50co2             0.000000   1.400000   99.600000  \n",
      "sleepefficiency     85.450000  91.625000   99.000000  \n",
      "arousali            10.850000  16.125000  128.800000  \n",
      "oai                  0.200000   1.592500  188.500000  \n",
      "cai                  0.200000   0.600000   31.000000  \n",
      "tb90                 0.000000   0.225000   64.000000  \n",
      "lowsao2             90.000000  92.250000   98.000000  \n",
      "peakc02             48.000000  52.000000   80.000000  \n",
      "oahi                 2.600000   9.400000  124.700000  \n",
      "ohi                  0.850000   3.720000  188.500000  \n"
     ]
    }
   ],
   "source": [
    "# Summarise data\n",
    "summary = umd_data.describe()\n",
    "summary = summary.transpose()\n",
    "print(summary)"
   ]
  },
  {
   "cell_type": "code",
   "execution_count": 9,
   "metadata": {
    "collapsed": true
   },
   "outputs": [],
   "source": [
    "# Create train and test split\n",
    "umd_ahi = pd.Series(umd_data['ahi']>5, index=umd_data.index)\n",
    "\n",
    "skf = StratifiedKFold(n_splits=2, random_state=None, shuffle=False)\n",
    "n_samples = umd_data.shape[0]\n",
    "kfold_index = [[i, j] for i, j in skf.split(np.zeros(n_samples), umd_ahi)]\n",
    "umd_train = umd_data.loc[kfold_index[1][0]]\n",
    "umd_test = umd_data.loc[kfold_index[1][1]]\n",
    "umd_train = umd_train.reset_index(drop=True)\n",
    "umd_test = umd_test.reset_index(drop=True)"
   ]
  },
  {
   "cell_type": "code",
   "execution_count": 10,
   "metadata": {
    "collapsed": true
   },
   "outputs": [],
   "source": [
    "# Save data\n",
    "umd_train_file = '../../../data/processed/umd_data_standard_train.csv'\n",
    "umd_test_file = '../../../data/processed/umd_data_standard_test.csv'\n",
    "umd_all_file = '../../../data/processed/umd_data_standard_all.csv'\n",
    "\n",
    "umd_data.to_csv(umd_all_file, index_label=False)\n",
    "umd_train.to_csv(umd_train_file, index_label=False)\n",
    "umd_test.to_csv(umd_test_file, index_label=False)"
   ]
  }
 ],
 "metadata": {
  "kernelspec": {
   "display_name": "Python 3",
   "language": "python",
   "name": "python3"
  },
  "language_info": {
   "codemirror_mode": {
    "name": "ipython",
    "version": 3
   },
   "file_extension": ".py",
   "mimetype": "text/x-python",
   "name": "python",
   "nbconvert_exporter": "python",
   "pygments_lexer": "ipython3",
   "version": "3.5.2"
  }
 },
 "nbformat": 4,
 "nbformat_minor": 2
}
