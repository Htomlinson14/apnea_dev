{
 "cells": [
  {
   "cell_type": "markdown",
   "metadata": {},
   "source": [
    "# Notebook to test the chosen umd model on the held out umd data\n",
    "\n",
    "### To do: Implement Logan's model for all test scenarios"
   ]
  },
  {
   "cell_type": "code",
   "execution_count": 140,
   "metadata": {
    "collapsed": false
   },
   "outputs": [],
   "source": [
    "# Imports general\n",
    "import pandas as pd\n",
    "import numpy as np\n",
    "import matplotlib.pyplot as plt\n",
    "%matplotlib inline\n",
    "\n",
    "# Imports scikit-learn\n",
    "from sklearn import preprocessing\n",
    "from sklearn import svm\n",
    "from sklearn import metrics\n",
    "from sklearn.decomposition import PCA\n",
    "from sklearn.model_selection import cross_val_score\n",
    "from sklearn.linear_model import LogisticRegression\n",
    "\n",
    "# Import bespoke\n",
    "import rail_utils\n",
    "from rail_utils import PlotModels\n",
    "import PointsModel\n",
    "import rail_utils"
   ]
  },
  {
   "cell_type": "code",
   "execution_count": 141,
   "metadata": {
    "collapsed": true
   },
   "outputs": [],
   "source": [
    "# Load data\n",
    "train_file = '../../data/processed/umd_data_standard_train.csv'\n",
    "train_data = pd.read_csv(train_file)\n",
    "test_file = '../../data/processed/umd_data_standard_test.csv'\n",
    "test_data = pd.read_csv(test_file)\n",
    "\n",
    "# Define variables\n",
    "admission_variables = ['gender_Male', 'ethnicity_Hispanic','ethnicity_Black', 'ethnicity_White', 'ethnicity_Asian', \\\n",
    "                       'term', 'bmi', 'age', 'allergies_Yes', 'asthma_Yes', 'gerd_Yes', 'tonsilsize_3-4', 'zscore']\n",
    "test_variable = ['ahi']\n",
    "continuous_variables = [\"bmi\", \"age\", 'zscore']\n",
    "\n",
    "# Variables to ignore based on distributions\n",
    "# ignore_variables = ['ethnicity Black', 'ethnicity Hispanic', 'gerd_Yes', 'tonsilsize_3-4', 'age']\n",
    "ignore_variables = []\n",
    "\n",
    "final_variables = list(set(admission_variables) - set(ignore_variables))\n",
    "continuous_variables = list(set(continuous_variables) - set(ignore_variables))\n",
    "\n",
    "# Set AHI threshold\n",
    "ahi_thresh = 5\n",
    "\n",
    "# Set up training set\n",
    "ytrain_orig = pd.Series(train_data['ahi']>ahi_thresh, index=train_data.index)\n",
    "xtrain_orig = train_data[final_variables]\n",
    "ytest_orig = pd.Series(test_data['ahi']>ahi_thresh, index=test_data.index)\n",
    "xtest_orig = test_data[final_variables]"
   ]
  },
  {
   "cell_type": "markdown",
   "metadata": {},
   "source": [
    "### Set up model"
   ]
  },
  {
   "cell_type": "code",
   "execution_count": 142,
   "metadata": {
    "collapsed": false
   },
   "outputs": [
    {
     "name": "stdout",
     "output_type": "stream",
     "text": [
      "Training set cross-val AUC is: 0.906\n"
     ]
    }
   ],
   "source": [
    "ytrain = ytrain_orig.copy()\n",
    "xtrain = xtrain_orig.copy()\n",
    "ytest = ytest_orig.copy()\n",
    "xtest = xtest_orig.copy()\n",
    "\n",
    "# models = {'best_model': LogisticRegression(penalty='l1'), 'kang_model': PointsModel.PointsModel()}\n",
    "models = {'best_model': LogisticRegression(penalty='l1')}\n",
    "\n",
    "pipeline = [[preprocessing.StandardScaler(), continuous_variables],\n",
    "            [preprocessing.PolynomialFeatures(degree=2), 'from before'],\n",
    "            [PCA(n_components=6), 'from before']]\n",
    "\n",
    "test_models = PlotModels(models=models, pipeline=pipeline)\n",
    "\n",
    "[xtrain, ytrain], [xtest, ytest] = test_models._process_pipeline([xtrain, ytrain], [xtest, ytest])\n",
    "\n",
    "# Test cross-validation score on training set\n",
    "auroc_scores = cross_val_score(models['best_model'], xtrain, ytrain, cv=5, scoring ='roc_auc')\n",
    "print('Training set cross-val AUC is: {:0.3f}'.format(auroc_scores.mean()))"
   ]
  },
  {
   "cell_type": "markdown",
   "metadata": {},
   "source": [
    "### Test model"
   ]
  },
  {
   "cell_type": "code",
   "execution_count": 143,
   "metadata": {
    "collapsed": false
   },
   "outputs": [],
   "source": [
    "models['best_model'].fit(xtrain, ytrain)\n",
    "pred_proba = models['best_model'].predict_proba(xtest)[:, 1]\n",
    "auc = metrics.roc_auc_score(ytest, pred_proba)\n",
    "fpr, tpr, _ = metrics.roc_curve(ytest, pred_proba)\n",
    "test_models._plot_vars['best_model'] = [fpr, tpr, auc, '']"
   ]
  },
  {
   "cell_type": "markdown",
   "metadata": {},
   "source": [
    "### Test Kang et al"
   ]
  },
  {
   "cell_type": "code",
   "execution_count": 144,
   "metadata": {
    "collapsed": false
   },
   "outputs": [],
   "source": [
    "# ytrain = ytrain_orig.copy()\n",
    "# xtrain = xtrain_orig.copy()\n",
    "# ytest = ytest_orig.copy()\n",
    "# xtest = xtest_orig.copy()\n",
    "\n",
    "\n",
    "# models['kang_model'].fit(xtrain, ytrain)\n",
    "# pred_proba = models['kang_model'].predict_proba(xtest)[:, 1]\n",
    "# auc = metrics.roc_auc_score(ytest, pred_proba)\n",
    "# fpr, tpr, _ = metrics.roc_curve(ytest, pred_proba)\n",
    "# test_models._plot_vars['kang_model'] = [fpr, tpr, auc, '']"
   ]
  },
  {
   "cell_type": "markdown",
   "metadata": {},
   "source": [
    "### Print model results"
   ]
  },
  {
   "cell_type": "code",
   "execution_count": 145,
   "metadata": {
    "collapsed": false
   },
   "outputs": [
    {
     "name": "stdout",
     "output_type": "stream",
     "text": [
      "best_model (AUC: 0.773, Sens: 0.620, Spec: 0.881)\n"
     ]
    }
   ],
   "source": [
    "test_models._make_label()\n",
    "print(test_models._plot_vars['best_model'][3])\n",
    "# print(test_models._plot_vars['kang_model'][3])"
   ]
  }
 ],
 "metadata": {
  "anaconda-cloud": {},
  "kernelspec": {
   "display_name": "Python 3",
   "language": "python",
   "name": "python3"
  },
  "language_info": {
   "codemirror_mode": {
    "name": "ipython",
    "version": 3
   },
   "file_extension": ".py",
   "mimetype": "text/x-python",
   "name": "python",
   "nbconvert_exporter": "python",
   "pygments_lexer": "ipython3",
   "version": "3.5.2"
  }
 },
 "nbformat": 4,
 "nbformat_minor": 1
}
