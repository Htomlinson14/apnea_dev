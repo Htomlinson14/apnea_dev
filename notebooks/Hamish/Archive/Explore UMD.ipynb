{
 "cells": [
  {
   "cell_type": "markdown",
   "metadata": {},
   "source": [
    "List of analyses to do:\n",
    "* Boxplots of AHI based on categorical variables\n",
    "* Simple linear regression onto AHI\n",
    "* Feature importance with decision trees\n",
    "* PCA or similar to see correlation between features\n",
    "* Clustering analysis\n",
    "* Implement basic models e.g. SVMs, logistic regression, random forrest\n",
    "\n",
    "\n",
    "* I should create a subset of problems, and for each make a benchmark of success (with the strategists)\n",
    "* Define a pipeline of how to approach these problems"
   ]
  },
  {
   "cell_type": "code",
   "execution_count": 4,
   "metadata": {
    "collapsed": false
   },
   "outputs": [],
   "source": [
    "# Imports\n",
    "import pandas as pd\n",
    "import numpy as np\n",
    "import seaborn as sns\n",
    "from scipy import stats\n",
    "import matplotlib.pyplot as plt\n",
    "%matplotlib inline\n",
    "\n",
    "# Imports scikit-learn\n",
    "import sklearn.linear_model as lm\n",
    "from sklearn.feature_selection import RFE\n",
    "from sklearn import metrics\n",
    "from sklearn import preprocessing\n",
    "from sklearn.ensemble import ExtraTreesClassifier"
   ]
  },
  {
   "cell_type": "code",
   "execution_count": 5,
   "metadata": {
    "collapsed": false,
    "scrolled": true
   },
   "outputs": [],
   "source": [
    "# Load data\n",
    "data_file = '/Users/htomlinson/Documents/Rhodes/RAIL/UMD Sleep Apnea data.csv'\n",
    "Data = pd.read_csv(data_file)\n",
    "\n",
    "# New variable for whether the patient has sleep apnoea\n",
    "Data['apnoea'] = pd.Series(Data['ahi']>5, index=Data.index)"
   ]
  },
  {
   "cell_type": "code",
   "execution_count": 6,
   "metadata": {
    "collapsed": false
   },
   "outputs": [
    {
     "name": "stdout",
     "output_type": "stream",
     "text": [
      "  gender ethnicity  term        bmi        age allergies asthma gerd  \\\n",
      "0   Male     White   0.0  25.929191   3.093771       Yes    Yes   No   \n",
      "1   Male  Hispanic   0.0  31.462240   4.550308        No     No   No   \n",
      "2   Male  Hispanic   0.0  36.104691   4.678987       Yes    Yes   No   \n",
      "3   Male     Black   0.0  69.219425  16.953425        No     No   No   \n",
      "4   Male     Black   0.0  50.974365  17.120548        No     No   No   \n",
      "\n",
      "   tonsilsize  nrem   ...      zscore    ahi  oahi  cai     oai     ohi  \\\n",
      "0           3  75.7   ...    4.920000    2.1   2.0  0.1    0.29    1.71   \n",
      "1           3  80.6   ...    4.927145   15.8  15.3  0.5    1.33   13.97   \n",
      "2           2  75.1   ...    4.990000   28.6  27.8  0.8    0.09   27.71   \n",
      "3           3  44.7   ...    3.460000  118.0   2.5  0.5  115.50  115.50   \n",
      "4           3  66.5   ...    3.160000   60.5  42.7  1.4   16.90   16.90   \n",
      "\n",
      "   lowsao2  peakc02  tb90  apnoea  \n",
      "0       90       50   0.0   False  \n",
      "1       86       50   0.3    True  \n",
      "2       80       64   2.2    True  \n",
      "3       64       52  34.2    True  \n",
      "4       85       47   2.5    True  \n",
      "\n",
      "[5 rows x 24 columns]\n"
     ]
    }
   ],
   "source": [
    "# Data summary\n",
    "print(Data.head())"
   ]
  },
  {
   "cell_type": "code",
   "execution_count": 7,
   "metadata": {
    "collapsed": false
   },
   "outputs": [],
   "source": [
    "# Define variables\n",
    "admission_variables = ['gender', 'ethnicity', 'term', 'bmi', 'age', 'allergies', 'asthma', 'gerd', 'tonsilsize']\n",
    "laboratory_variables = ['nrem', 'rem', 'sleepefficiency', 'arousali', \\\n",
    "                        'tst50co2', 'zscore', 'oahi', 'cai', 'oai', \\\n",
    "                        'ohi', 'lowsao2', 'peakc02', 'tb90']\n",
    "test_variable = ['apnoea']"
   ]
  },
  {
   "cell_type": "code",
   "execution_count": 8,
   "metadata": {
    "collapsed": false
   },
   "outputs": [
    {
     "data": {
      "text/html": [
       "<div>\n",
       "<table border=\"1\" class=\"dataframe\">\n",
       "  <thead>\n",
       "    <tr style=\"text-align: right;\">\n",
       "      <th></th>\n",
       "      <th>gender</th>\n",
       "      <th>ethnicity</th>\n",
       "      <th>term</th>\n",
       "      <th>bmi</th>\n",
       "      <th>age</th>\n",
       "      <th>allergies</th>\n",
       "      <th>asthma</th>\n",
       "      <th>gerd</th>\n",
       "      <th>tonsilsize</th>\n",
       "    </tr>\n",
       "  </thead>\n",
       "  <tbody>\n",
       "    <tr>\n",
       "      <th>0</th>\n",
       "      <td>Male</td>\n",
       "      <td>White</td>\n",
       "      <td>0.0</td>\n",
       "      <td>25.929191</td>\n",
       "      <td>3.093771</td>\n",
       "      <td>Yes</td>\n",
       "      <td>Yes</td>\n",
       "      <td>No</td>\n",
       "      <td>3</td>\n",
       "    </tr>\n",
       "    <tr>\n",
       "      <th>1</th>\n",
       "      <td>Male</td>\n",
       "      <td>Hispanic</td>\n",
       "      <td>0.0</td>\n",
       "      <td>31.462240</td>\n",
       "      <td>4.550308</td>\n",
       "      <td>No</td>\n",
       "      <td>No</td>\n",
       "      <td>No</td>\n",
       "      <td>3</td>\n",
       "    </tr>\n",
       "    <tr>\n",
       "      <th>2</th>\n",
       "      <td>Male</td>\n",
       "      <td>Hispanic</td>\n",
       "      <td>0.0</td>\n",
       "      <td>36.104691</td>\n",
       "      <td>4.678987</td>\n",
       "      <td>Yes</td>\n",
       "      <td>Yes</td>\n",
       "      <td>No</td>\n",
       "      <td>2</td>\n",
       "    </tr>\n",
       "    <tr>\n",
       "      <th>3</th>\n",
       "      <td>Male</td>\n",
       "      <td>Black</td>\n",
       "      <td>0.0</td>\n",
       "      <td>69.219425</td>\n",
       "      <td>16.953425</td>\n",
       "      <td>No</td>\n",
       "      <td>No</td>\n",
       "      <td>No</td>\n",
       "      <td>3</td>\n",
       "    </tr>\n",
       "    <tr>\n",
       "      <th>4</th>\n",
       "      <td>Male</td>\n",
       "      <td>Black</td>\n",
       "      <td>0.0</td>\n",
       "      <td>50.974365</td>\n",
       "      <td>17.120548</td>\n",
       "      <td>No</td>\n",
       "      <td>No</td>\n",
       "      <td>No</td>\n",
       "      <td>3</td>\n",
       "    </tr>\n",
       "  </tbody>\n",
       "</table>\n",
       "</div>"
      ],
      "text/plain": [
       "  gender ethnicity  term        bmi        age allergies asthma gerd  \\\n",
       "0   Male     White   0.0  25.929191   3.093771       Yes    Yes   No   \n",
       "1   Male  Hispanic   0.0  31.462240   4.550308        No     No   No   \n",
       "2   Male  Hispanic   0.0  36.104691   4.678987       Yes    Yes   No   \n",
       "3   Male     Black   0.0  69.219425  16.953425        No     No   No   \n",
       "4   Male     Black   0.0  50.974365  17.120548        No     No   No   \n",
       "\n",
       "   tonsilsize  \n",
       "0           3  \n",
       "1           3  \n",
       "2           2  \n",
       "3           3  \n",
       "4           3  "
      ]
     },
     "execution_count": 8,
     "metadata": {},
     "output_type": "execute_result"
    }
   ],
   "source": [
    "Data[admission_variables].head()"
   ]
  },
  {
   "cell_type": "code",
   "execution_count": 9,
   "metadata": {
    "collapsed": false,
    "scrolled": true
   },
   "outputs": [
    {
     "data": {
      "text/plain": [
       "<matplotlib.axes._subplots.AxesSubplot at 0x113971080>"
      ]
     },
     "execution_count": 9,
     "metadata": {},
     "output_type": "execute_result"
    },
    {
     "data": {
      "image/png": "[encoded data removed]",
      "text/plain": [
       "<matplotlib.figure.Figure at 0x10f9a79b0>"
      ]
     },
     "metadata": {},
     "output_type": "display_data"
    },
    {
     "data": {
      "image/png": "[encoded data removed]",
      "text/plain": [
       "<matplotlib.figure.Figure at 0x10fc71d30>"
      ]
     },
     "metadata": {},
     "output_type": "display_data"
    }
   ],
   "source": [
    "# Distributions\n",
    "f,(ax1, ax2) = plt.subplots(1, 2, sharey=True)\n",
    "sns.distplot(Data[\"ahi\"], kde=False, ax=ax1)\n",
    "sns.distplot(Data[Data[\"ahi\"]<=10][\"ahi\"],kde=False, ax=ax2)\n",
    "# ax2.set_xlim(0,10)\n",
    "\n",
    "f,(ax1, ax2) = plt.subplots(1, 2, sharey=True)\n",
    "sns.distplot(Data[\"bmi\"],kde=False, ax=ax1)\n",
    "sns.countplot(x=\"gender\", data=Data, ax=ax2)"
   ]
  },
  {
   "cell_type": "code",
   "execution_count": 10,
   "metadata": {
    "collapsed": false
   },
   "outputs": [
    {
     "name": "stdout",
     "output_type": "stream",
     "text": [
      "BMI correlation: 0.3035103833237027\n",
      "Age correlation: 0.13724500234590986\n"
     ]
    },
    {
     "data": {
      "image/png": "[encoded data removed]",
      "text/plain": [
       "<matplotlib.figure.Figure at 0x1139d2c50>"
      ]
     },
     "metadata": {},
     "output_type": "display_data"
    }
   ],
   "source": [
    "# Obvious correlation to look at\n",
    "\n",
    "f,(ax1, ax2) = plt.subplots(1, 2, sharey=True)\n",
    "\n",
    "sns.regplot(x=\"bmi\", y=\"ahi\", data=Data,ax=ax1)\n",
    "corr_coeff = stats.pearsonr(Data[\"bmi\"],Data[\"ahi\"])\n",
    "print(\"BMI correlation: {}\".format(corr_coeff[0]))\n",
    "\n",
    "sns.regplot(x=\"age\", y=\"ahi\", data=Data,ax=ax2)\n",
    "corr_coeff = stats.pearsonr(Data[\"age\"],Data[\"ahi\"])\n",
    "print(\"Age correlation: {}\".format(corr_coeff[0]))"
   ]
  },
  {
   "cell_type": "code",
   "execution_count": 11,
   "metadata": {
    "collapsed": false
   },
   "outputs": [
    {
     "ename": "NameError",
     "evalue": "name 'ax3' is not defined",
     "output_type": "error",
     "traceback": [
      "\u001b[0;31m---------------------------------------------------------------------------\u001b[0m",
      "\u001b[0;31mNameError\u001b[0m                                 Traceback (most recent call last)",
      "\u001b[0;32m<ipython-input-11-345d114499fa>\u001b[0m in \u001b[0;36m<module>\u001b[0;34m()\u001b[0m\n\u001b[1;32m      9\u001b[0m \u001b[0msns\u001b[0m\u001b[0;34m.\u001b[0m\u001b[0mboxplot\u001b[0m\u001b[0;34m(\u001b[0m\u001b[0mx\u001b[0m\u001b[0;34m=\u001b[0m\u001b[0;34m\"term\"\u001b[0m\u001b[0;34m,\u001b[0m \u001b[0my\u001b[0m\u001b[0;34m=\u001b[0m\u001b[0;34m\"ahi\"\u001b[0m\u001b[0;34m,\u001b[0m\u001b[0mdata\u001b[0m\u001b[0;34m=\u001b[0m\u001b[0mData\u001b[0m\u001b[0;34m,\u001b[0m \u001b[0mpalette\u001b[0m\u001b[0;34m=\u001b[0m\u001b[0;34m\"Set3\"\u001b[0m\u001b[0;34m,\u001b[0m\u001b[0max\u001b[0m\u001b[0;34m=\u001b[0m\u001b[0max1\u001b[0m\u001b[0;34m)\u001b[0m\u001b[0;34m\u001b[0m\u001b[0m\n\u001b[1;32m     10\u001b[0m \u001b[0msns\u001b[0m\u001b[0;34m.\u001b[0m\u001b[0mboxplot\u001b[0m\u001b[0;34m(\u001b[0m\u001b[0mx\u001b[0m\u001b[0;34m=\u001b[0m\u001b[0;34m\"allergies\"\u001b[0m\u001b[0;34m,\u001b[0m \u001b[0my\u001b[0m\u001b[0;34m=\u001b[0m\u001b[0;34m\"ahi\"\u001b[0m\u001b[0;34m,\u001b[0m\u001b[0mdata\u001b[0m\u001b[0;34m=\u001b[0m\u001b[0mData\u001b[0m\u001b[0;34m,\u001b[0m \u001b[0mpalette\u001b[0m\u001b[0;34m=\u001b[0m\u001b[0;34m\"Set3\"\u001b[0m\u001b[0;34m,\u001b[0m\u001b[0max\u001b[0m\u001b[0;34m=\u001b[0m\u001b[0max2\u001b[0m\u001b[0;34m)\u001b[0m\u001b[0;34m\u001b[0m\u001b[0m\n\u001b[0;32m---> 11\u001b[0;31m \u001b[0msns\u001b[0m\u001b[0;34m.\u001b[0m\u001b[0mboxplot\u001b[0m\u001b[0;34m(\u001b[0m\u001b[0mx\u001b[0m\u001b[0;34m=\u001b[0m\u001b[0;34m\"asthma\"\u001b[0m\u001b[0;34m,\u001b[0m \u001b[0my\u001b[0m\u001b[0;34m=\u001b[0m\u001b[0;34m\"ahi\"\u001b[0m\u001b[0;34m,\u001b[0m\u001b[0mdata\u001b[0m\u001b[0;34m=\u001b[0m\u001b[0mData\u001b[0m\u001b[0;34m,\u001b[0m \u001b[0mpalette\u001b[0m\u001b[0;34m=\u001b[0m\u001b[0;34m\"Set3\"\u001b[0m\u001b[0;34m,\u001b[0m\u001b[0max\u001b[0m\u001b[0;34m=\u001b[0m\u001b[0max3\u001b[0m\u001b[0;34m)\u001b[0m\u001b[0;34m\u001b[0m\u001b[0m\n\u001b[0m\u001b[1;32m     12\u001b[0m \u001b[0msns\u001b[0m\u001b[0;34m.\u001b[0m\u001b[0mplt\u001b[0m\u001b[0;34m.\u001b[0m\u001b[0mylim\u001b[0m\u001b[0;34m(\u001b[0m\u001b[0;36m0\u001b[0m\u001b[0;34m,\u001b[0m\u001b[0;36m50\u001b[0m\u001b[0;34m)\u001b[0m\u001b[0;34m\u001b[0m\u001b[0m\n\u001b[1;32m     13\u001b[0m \u001b[0;34m\u001b[0m\u001b[0m\n",
      "\u001b[0;31mNameError\u001b[0m: name 'ax3' is not defined"
     ]
    },
    {
     "data": {
      "image/png": "[encoded data removed]",
      "text/plain": [
       "<matplotlib.figure.Figure at 0x113bf4940>"
      ]
     },
     "metadata": {},
     "output_type": "display_data"
    },
    {
     "data": {
      "image/png": "[encoded data removed]",
      "text/plain": [
       "<matplotlib.figure.Figure at 0x113bf44e0>"
      ]
     },
     "metadata": {},
     "output_type": "display_data"
    }
   ],
   "source": [
    "# A few boxplots: AHI based on age, gender, term, BMI, asthma\n",
    "\n",
    "f,(ax1, ax2) = plt.subplots(1, 2, sharey=True)\n",
    "sns.boxplot(x=\"ethnicity\", y=\"ahi\",data=Data, palette=\"Set3\",ax=ax1)\n",
    "sns.boxplot(x=\"ethnicity\", y=\"ahi\",data=Data, hue = \"gender\", palette=\"Set3\",ax=ax2)\n",
    "sns.plt.ylim(0,50)\n",
    "\n",
    "f,(ax1, ax2) = plt.subplots(1, 2, sharey=True)\n",
    "sns.boxplot(x=\"term\", y=\"ahi\",data=Data, palette=\"Set3\",ax=ax1)\n",
    "sns.boxplot(x=\"allergies\", y=\"ahi\",data=Data, palette=\"Set3\",ax=ax2)\n",
    "sns.boxplot(x=\"asthma\", y=\"ahi\",data=Data, palette=\"Set3\",ax=ax3)\n",
    "sns.plt.ylim(0,50)\n",
    "\n",
    "f,(ax1, ax2) = plt.subplots(1, 2, sharey=True)\n",
    "sns.boxplot(x=\"asthma\", y=\"ahi\",data=Data, palette=\"Set3\",ax=ax1)\n",
    "sns.boxplot(x=\"tonsilsize\", y=\"ahi\",data=Data, palette=\"Set3\",ax=ax2)\n",
    "sns.plt.ylim(0,50)"
   ]
  },
  {
   "cell_type": "code",
   "execution_count": null,
   "metadata": {
    "collapsed": false,
    "scrolled": true
   },
   "outputs": [],
   "source": [
    "# Check if differences are significant\n",
    "P_gender = stats.ttest_ind(Data[Data[\"gender\"]==\"Male\"][\"ahi\"],Data[Data[\"gender\"]==\"Female\"][\"ahi\"])\n",
    "P_allergies = stats.ttest_ind(Data[Data[\"allergies\"]==\"Yes\"][\"ahi\"],Data[Data[\"allergies\"]==\"No\"][\"ahi\"])\n",
    "P_asthma = stats.ttest_ind(Data[Data[\"asthma\"]==\"Yes\"][\"ahi\"],Data[Data[\"asthma\"]==\"No\"][\"ahi\"])\n",
    "P_term = stats.ttest_ind(Data[Data[\"term\"]==1][\"ahi\"],Data[Data[\"term\"]==0][\"ahi\"],equal_var=False)\n",
    "P_gerd = stats.ttest_ind(Data[Data[\"gerd\"]==\"Yes\"][\"ahi\"],Data[Data[\"gerd\"]==\"No\"][\"ahi\"],equal_var=False)\n",
    "\n",
    "\n",
    "print(\"Gender: {}\".format(P_gender[1]))\n",
    "print(\"Allergies: {}\".format(P_allergies[1]))\n",
    "print(\"Asthma: {}\".format(P_asthma[1]))\n",
    "print(\"Term: {}\".format(P_term[1]))\n",
    "print(\"Gerd: {}\".format(P_gerd[1]))"
   ]
  },
  {
   "cell_type": "code",
   "execution_count": null,
   "metadata": {
    "collapsed": false,
    "scrolled": false
   },
   "outputs": [],
   "source": [
    "Data[Data[\"gerd\"]==\"Yes\"][\"ahi\"].mean()"
   ]
  },
  {
   "cell_type": "code",
   "execution_count": null,
   "metadata": {
    "collapsed": false
   },
   "outputs": [],
   "source": [
    "sns.boxplot(x=\"gerd\", y=\"ahi\",data=Data, palette=\"Set3\")\n",
    "sns.plt.ylim(0,50)\n",
    "plt.figure()\n",
    "sns.countplot(x=\"gerd\", data=Data)"
   ]
  },
  {
   "cell_type": "code",
   "execution_count": null,
   "metadata": {
    "collapsed": false
   },
   "outputs": [],
   "source": [
    "(Data[\"gerd\"]==\"Yes\").sum()"
   ]
  },
  {
   "cell_type": "code",
   "execution_count": null,
   "metadata": {
    "collapsed": false
   },
   "outputs": [],
   "source": [
    "Data[Data[\"gerd\"]==\"No\"][\"ahi\"].mean()"
   ]
  },
  {
   "cell_type": "code",
   "execution_count": null,
   "metadata": {
    "collapsed": false
   },
   "outputs": [],
   "source": [
    "# Tonsilsize looks correlated... check distribution\n",
    "sns.countplot(x=\"tonsilsize\", data=Data)"
   ]
  },
  {
   "cell_type": "code",
   "execution_count": null,
   "metadata": {
    "collapsed": false
   },
   "outputs": [],
   "source": [
    "sns.regplot(x=\"bmi\", y=\"ahi\", data=Data)\n",
    "corr_coeff = stats.pearsonr(Data[\"bmi\"],Data[\"ahi\"])\n",
    "print(\"BMI correlation: {}\".format(corr_coeff[0]))"
   ]
  },
  {
   "cell_type": "code",
   "execution_count": null,
   "metadata": {
    "collapsed": false
   },
   "outputs": [],
   "source": [
    "Data[Data[\"apnoea\"]][\"bmi\"].mean()"
   ]
  },
  {
   "cell_type": "code",
   "execution_count": null,
   "metadata": {
    "collapsed": false
   },
   "outputs": [],
   "source": [
    "Data[~Data[\"apnoea\"]][\"bmi\"].mean()"
   ]
  },
  {
   "cell_type": "code",
   "execution_count": null,
   "metadata": {
    "collapsed": false,
    "scrolled": false
   },
   "outputs": [],
   "source": [
    "# Boxplot of BMI based on apnoea status\n",
    "sns.boxplot(x=\"apnoea\", y=\"bmi\",data=Data, palette=\"Set3\")\n",
    "stats.ttest_ind(Data[Data[\"apnoea\"]][\"bmi\"],Data[~Data[\"apnoea\"]][\"bmi\"])"
   ]
  },
  {
   "cell_type": "code",
   "execution_count": null,
   "metadata": {
    "collapsed": false
   },
   "outputs": [],
   "source": [
    "# Set up data for feature analysis\n",
    "\n",
    "# Set up Data\n",
    "X = Data[admission_variables]\n",
    "X.is_copy = False\n",
    "y = Data[test_variable]\n",
    "\n",
    "# Encode categorical data\n",
    "cat_labels = [\"gender\",\"ethnicity\", \"allergies\",\"asthma\",\"gerd\"]\n",
    "le = preprocessing.LabelEncoder()\n",
    "\n",
    "for cat_label in cat_labels:\n",
    "    le.fit(X[cat_label])\n",
    "    X[cat_label] = le.transform(X[cat_label])\n",
    "\n",
    "# Remove missing term values\n",
    "X[\"term\"].fillna(0, inplace=True)\n",
    "\n",
    "# Feature importance analysis\n",
    "\n",
    "# Build a forest and compute the feature importances\n",
    "forest = ExtraTreesClassifier()\n",
    "\n",
    "forest.fit(X, y)\n",
    "importances = forest.feature_importances_\n",
    "std = np.std([tree.feature_importances_ for tree in forest.estimators_],\n",
    "             axis=0)\n",
    "indices = np.argsort(importances)[::-1]\n",
    "\n",
    "# Print the feature ranking\n",
    "print(\"Feature ranking:\")\n",
    "\n",
    "for f in range(X.shape[1]):\n",
    "    print(\"%d. %s (%f)\" % (f + 1, list(X)[indices[f]], importances[indices[f]]))\n",
    "\n",
    "# Plot the feature importances of the forest\n",
    "plt.figure()\n",
    "plt.title(\"Feature importances\")\n",
    "plt.bar(range(X.shape[1]), importances[indices],\n",
    "       color=\"r\", yerr=std[indices], align=\"center\")\n",
    "plt.xticks(range(X.shape[1]), list(X.columns[indices]))\n",
    "plt.xlim([-1, X.shape[1]])\n",
    "plt.show()"
   ]
  },
  {
   "cell_type": "code",
   "execution_count": null,
   "metadata": {
    "collapsed": false
   },
   "outputs": [],
   "source": [
    "# Repeat feature analysis including laboratory variables\n",
    "\n",
    "# Set up Data\n",
    "X = Data[admission_variables+laboratory_variables]\n",
    "X.is_copy = False\n",
    "y = Data[test_variable]\n",
    "\n",
    "# Encode categorical data\n",
    "cat_labels = [\"gender\",\"ethnicity\", \"allergies\",\"asthma\",\"gerd\"]\n",
    "le = preprocessing.LabelEncoder()\n",
    "\n",
    "for cat_label in cat_labels:\n",
    "    le.fit(X[cat_label])\n",
    "    X[cat_label] = le.transform(X[cat_label])\n",
    "\n",
    "# Remove missing term values\n",
    "X[\"term\"].fillna(0, inplace=True)\n",
    "\n",
    "# Feature importance analysis\n",
    "\n",
    "# Build a forest and compute the feature importances\n",
    "forest = ExtraTreesClassifier()\n",
    "\n",
    "forest.fit(X, y)\n",
    "importances = forest.feature_importances_\n",
    "std = np.std([tree.feature_importances_ for tree in forest.estimators_],\n",
    "             axis=0)\n",
    "indices = np.argsort(importances)[::-1]\n",
    "\n",
    "# Print the feature ranking\n",
    "print(\"Feature ranking:\")\n",
    "\n",
    "for f in range(X.shape[1]):\n",
    "    print(\"%d. %s (%f)\" % (f + 1, list(X)[indices[f]], importances[indices[f]]))"
   ]
  },
  {
   "cell_type": "code",
   "execution_count": null,
   "metadata": {
    "collapsed": true
   },
   "outputs": [],
   "source": []
  }
 ],
 "metadata": {
  "anaconda-cloud": {},
  "kernelspec": {
   "display_name": "Python 3",
   "language": "python",
   "name": "python3"
  },
  "language_info": {
   "codemirror_mode": {
    "name": "ipython",
    "version": 3
   },
   "file_extension": ".py",
   "mimetype": "text/x-python",
   "name": "python",
   "nbconvert_exporter": "python",
   "pygments_lexer": "ipython3",
   "version": "3.5.2"
  }
 },
 "nbformat": 4,
 "nbformat_minor": 1
}
