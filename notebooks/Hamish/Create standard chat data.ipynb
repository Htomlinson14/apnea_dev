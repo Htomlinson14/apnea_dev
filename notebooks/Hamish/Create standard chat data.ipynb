{
 "cells": [
  {
   "cell_type": "code",
   "execution_count": 118,
   "metadata": {
    "collapsed": false
   },
   "outputs": [],
   "source": [
    "# Imports\n",
    "import pandas as pd\n",
    "import numpy as np\n",
    "from getpass import getuser\n",
    "import os"
   ]
  },
  {
   "cell_type": "code",
   "execution_count": 119,
   "metadata": {
    "collapsed": false,
    "scrolled": true
   },
   "outputs": [],
   "source": [
    "# Get chat data\n",
    "\n",
    "# Define columsn to use\n",
    "use_cols = ['QSAHI', 'NREMEPBP', 'NREMEPOP', 'SLPTIME', 'TONSIZE', 'male', \\\n",
    "            'AGEYEAR_AT_MEAS', 'ANT5', 'ANT5A', 'MED6', 'MED2', 'MED1C4', \\\n",
    "            'MED1G4', 'CHI3', 'REF4', 'REF5', 'NOVA_EST_PCTCO2G50', 'SLP_EFF', \\\n",
    "            'AI_ALL', 'QSOAI', 'CAI', 'PCTSA90H', 'MINSAT', 'CO2PEAK', 'OAHI3', \\\n",
    "            'HI', 'TIMEREMP', 'OSAS18', 'TOTALPSQ']\n",
    "use_cols = use_cols + ['SLS'+str(i) for i in range(1,11)]\n",
    "\n",
    "# Load data\n",
    "data_file = '/Users/' + getuser() + '/Documents/Rhodes/RAIL/chat/datasets/chat-baseline-dataset-0.7.0.csv'\n",
    "data = pd.read_csv(data_file, usecols=use_cols)\n",
    "\n",
    "# Create dataset similar to UMD\n",
    "data_chat = pd.DataFrame()\n",
    "data_chat['ahi'] = data['QSAHI'].copy()\n",
    "data_chat['rem'] = data['TIMEREMP']\n",
    "data_chat['nrem'] = (data['NREMEPBP'] + data['NREMEPOP'])/data['SLPTIME']\n",
    "data_chat['tonsilsize_3-4'] = data['TONSIZE'].replace(to_replace=[1,2], value=[0,1])\n",
    "data_chat['gender_Male'] = data['male']\n",
    "data_chat['age'] = data['AGEYEAR_AT_MEAS']\n",
    "data_chat['bmi'] = data['ANT5']\n",
    "data_chat['zscore'] = data['ANT5A']\n",
    "data_chat['term'] = data['MED6']\n",
    "data_chat['allergies_Yes'] = data['MED2']\n",
    "data_chat['asthma_Yes'] = data['MED1C4']\n",
    "data_chat['gerd_Yes'] = data['MED1G4']\n",
    "data_chat['ethnicity_Hispanic'] = data['REF5'].replace(to_replace=[2], value=[0])\n",
    "data_chat['ethnicity_White'] = 0\n",
    "data_chat.loc[data['REF4']==5,'ethnicity_White'] = 1\n",
    "data_chat['ethnicity_Black'] = 0\n",
    "data_chat.loc[data['REF4']==4,'ethnicity_Black'] = 1\n",
    "data_chat['ethnicity_Asian'] = 0\n",
    "data_chat.loc[data['REF4']==2,'ethnicity_Asian'] = 1\n",
    "data_chat['tst50co2'] = data['NOVA_EST_PCTCO2G50']\n",
    "data_chat['sleepefficiency'] = data['SLP_EFF']\n",
    "data_chat['arousali'] = data['AI_ALL']\n",
    "data_chat['oai'] = data['QSOAI']\n",
    "data_chat['cai'] = data['CAI']\n",
    "data_chat['tb90'] = tb90 = data['PCTSA90H']*data['SLPTIME']/100\n",
    "data_chat['lowsao2'] = data['MINSAT']\n",
    "data_chat['peakc02'] = data['CO2PEAK']\n",
    "data_chat['oahi'] = data['OAHI3']\n",
    "data_chat['ohi'] = data['HI']\n",
    "data_chat['reference: osa18'] = data['OSAS18']\n",
    "data_chat['reference: psq'] = data['TOTALPSQ']\n",
    "\n",
    "# Calculate epworth sleepiness score\n",
    "data_temp = pd.Series(np.zeros(data_chat.shape[0]))\n",
    "for i in range(1,11):\n",
    "    data_temp = data['SLS'+str(i)]\n",
    "data_chat['reference: ess'] = data_temp"
   ]
  },
  {
   "cell_type": "code",
   "execution_count": 120,
   "metadata": {
    "collapsed": false
   },
   "outputs": [],
   "source": [
    "# Deal with missing data\n",
    "\n",
    "# Remove patients without AHI\n",
    "idx_no_ahi = ~data_chat['ahi'].apply(np.isnan)\n",
    "data_chat = data_chat[idx_no_ahi]\n",
    "\n",
    "# Remove patients without reference data\n",
    "idx_no_osa18 = ~data_chat['reference: osa18'].apply(np.isnan)\n",
    "data_chat = data_chat[idx_no_osa18]\n",
    "idx_no_psq = ~data_chat['reference: psq'].apply(np.isnan)\n",
    "data_chat = data_chat[idx_no_psq]\n",
    "idx_no_ess = ~data_chat['reference: ess'].apply(np.isnan)\n",
    "data_chat = data_chat[idx_no_ess]\n",
    "\n",
    "# Select columns to imput NaNs as zeros\n",
    "impute_zeros_cols = ['tonsilsize_3-4', 'zscore', 'allergies_Yes', 'asthma_Yes', 'gerd_Yes', 'ethnicity_Hispanic']\n",
    "for col in impute_zeros_cols:\n",
    "    data_chat[col].fillna(0, inplace=True)"
   ]
  },
  {
   "cell_type": "code",
   "execution_count": 121,
   "metadata": {
    "collapsed": false
   },
   "outputs": [
    {
     "name": "stdout",
     "output_type": "stream",
     "text": [
      "                    count       mean        std        min        25%  \\\n",
      "ahi                 445.0   6.818809   5.676759   1.130000   2.690000   \n",
      "rem                 445.0  18.408652   4.239112   2.720000  16.100000   \n",
      "nrem                445.0   0.816319   0.042945   0.676678   0.790224   \n",
      "tonsilsize_3-4      445.0   0.746067   0.435749   0.000000   0.000000   \n",
      "gender_Male         445.0   0.483146   0.500278   0.000000   0.000000   \n",
      "age                 445.0   6.566292   1.402455   5.000000   5.000000   \n",
      "bmi                 445.0  18.956225   4.866325  12.490000  15.240000   \n",
      "zscore              445.0   0.847348   1.288120  -3.460000  -0.040000   \n",
      "term                444.0   0.936937   8.317926   0.000000   0.000000   \n",
      "allergies_Yes       445.0   0.404494   0.491346   0.000000   0.000000   \n",
      "asthma_Yes          445.0   0.242697   0.429196   0.000000   0.000000   \n",
      "gerd_Yes            445.0   0.004494   0.066965   0.000000   0.000000   \n",
      "ethnicity_Hispanic  445.0   0.074157   0.262322   0.000000   0.000000   \n",
      "ethnicity_White     445.0   0.355056   0.479069   0.000000   0.000000   \n",
      "ethnicity_Black     445.0   0.555056   0.497519   0.000000   0.000000   \n",
      "ethnicity_Asian     445.0   0.017978   0.133019   0.000000   0.000000   \n",
      "tst50co2            360.0  10.935174  20.614681   0.000000   0.300000   \n",
      "sleepefficiency     445.0  85.908784   8.664724  46.990291  81.695568   \n",
      "arousali            445.0   8.493108   3.150368   2.429907   6.143791   \n",
      "oai                 445.0   2.185124   2.767808   0.000000   0.490000   \n",
      "cai                 445.0   1.042697   1.326352   0.000000   0.400000   \n",
      "tb90                445.0   0.439791   1.475141   0.000000   0.000000   \n",
      "lowsao2             445.0  88.725843   4.972572  59.000000  87.000000   \n",
      "peakc02             377.0  54.275862   5.644704   0.000000  51.900000   \n",
      "oahi                445.0   5.661961   5.415001   0.158311   1.959184   \n",
      "ohi                 445.0   4.632120   4.076301   0.000000   1.848049   \n",
      "reference: osa18    445.0  53.510112  18.514373  18.000000  40.000000   \n",
      "reference: psq      445.0   0.489607   0.178805   0.045455   0.363636   \n",
      "reference: ess      445.0   0.155056   0.502922   0.000000   0.000000   \n",
      "\n",
      "                          50%        75%         max  \n",
      "ahi                  4.720000   8.750000   29.300000  \n",
      "rem                 18.500000  21.000000   30.600000  \n",
      "nrem                 0.815217   0.839286    0.971014  \n",
      "tonsilsize_3-4       1.000000   1.000000    1.000000  \n",
      "gender_Male          0.000000   1.000000    1.000000  \n",
      "age                  6.000000   8.000000   10.000000  \n",
      "bmi                 17.090000  21.820000   37.410000  \n",
      "zscore               0.840000   1.970000    3.070000  \n",
      "term                 0.000000   0.000000   88.000000  \n",
      "allergies_Yes        0.000000   1.000000    1.000000  \n",
      "asthma_Yes           0.000000   0.000000    1.000000  \n",
      "gerd_Yes             0.000000   0.000000    1.000000  \n",
      "ethnicity_Hispanic   0.000000   0.000000    1.000000  \n",
      "ethnicity_White      0.000000   1.000000    1.000000  \n",
      "ethnicity_Black      1.000000   1.000000    1.000000  \n",
      "ethnicity_Asian      0.000000   0.000000    1.000000  \n",
      "tst50co2             1.100000   8.354078   97.000000  \n",
      "sleepefficiency     88.212928  92.202729   97.943925  \n",
      "arousali             7.982262  10.243902   20.611765  \n",
      "oai                  1.170000   2.670000   16.630000  \n",
      "cai                  0.700000   1.300000   15.600000  \n",
      "tb90                 0.000000   0.000000    9.595000  \n",
      "lowsao2             90.000000  92.000000   97.000000  \n",
      "peakc02             54.400000  56.900000   69.300000  \n",
      "oahi                 3.596730   7.422680   27.372709  \n",
      "ohi                  3.355705   6.451613   24.279661  \n",
      "reference: osa18    51.000000  65.000000  123.000000  \n",
      "reference: psq       0.500000   0.631579    0.950000  \n",
      "reference: ess       0.000000   0.000000    3.000000  \n"
     ]
    }
   ],
   "source": [
    "# Summarise data\n",
    "summary = data_chat.describe()\n",
    "summary = summary.transpose()\n",
    "print(summary)"
   ]
  },
  {
   "cell_type": "code",
   "execution_count": 122,
   "metadata": {
    "collapsed": false
   },
   "outputs": [],
   "source": [
    "# Save data\n",
    "output_path_base = '/Users/' + getuser() + '/Documents/Rhodes/RAIL/apnea_dev/data'\n",
    "\n",
    "if not os.path.exists(output_path_base):\n",
    "    os.makedirs(output_path_base)\n",
    "\n",
    "output_path = os.path.join(output_path_base,'chat_data_standard.csv')\n",
    "data_chat.to_csv(output_path, index_label=False)"
   ]
  }
 ],
 "metadata": {
  "kernelspec": {
   "display_name": "Python [default]",
   "language": "python",
   "name": "python3"
  },
  "language_info": {
   "codemirror_mode": {
    "name": "ipython",
    "version": 3
   },
   "file_extension": ".py",
   "mimetype": "text/x-python",
   "name": "python",
   "nbconvert_exporter": "python",
   "pygments_lexer": "ipython3",
   "version": "3.5.2"
  }
 },
 "nbformat": 4,
 "nbformat_minor": 2
}
