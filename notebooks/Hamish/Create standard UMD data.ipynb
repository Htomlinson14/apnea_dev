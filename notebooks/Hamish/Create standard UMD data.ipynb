{
 "cells": [
  {
   "cell_type": "code",
   "execution_count": 1,
   "metadata": {
    "collapsed": true
   },
   "outputs": [],
   "source": [
    "# Imports\n",
    "import pandas as pd\n",
    "import numpy as np\n",
    "from getpass import getuser\n",
    "import os"
   ]
  },
  {
   "cell_type": "code",
   "execution_count": 3,
   "metadata": {
    "collapsed": false
   },
   "outputs": [],
   "source": [
    "# Load data\n",
    "data_file = '/Users/' + getuser() + '/Documents/Rhodes/RAIL/UMD Sleep Apnea data.csv'\n",
    "data = pd.read_csv(data_file)\n",
    "\n",
    "# Define variables\n",
    "categorical_variables = [\"gender\", \"ethnicity\", \"allergies\", \"asthma\", \"gerd\"]\n",
    "final_variables = ['ahi', 'rem', 'nrem', 'tonsilsize_3-4', 'gender_Male', 'age', 'bmi', 'zscore', \\\n",
    "                   'term', 'allergies_Yes', 'asthma_Yes', 'gerd_Yes', 'ethnicity_Hispanic', \\\n",
    "                   'ethnicity_White', 'ethnicity_Black', 'ethnicity_Asian', 'tst50co2', 'sleepefficiency', \\\n",
    "                   'arousali', 'oai', 'cai', 'tb90', 'lowsao2', 'peakc02', 'oahi', 'ohi']\n",
    "\n",
    "# Set AHI threshold\n",
    "ahi_thresh = 5\n",
    "\n",
    "# Remove NAs from data\n",
    "data[\"term\"].fillna(0, inplace=True)\n",
    "\n",
    "# Encode categorical data\n",
    "for cat_label in categorical_variables:\n",
    "    if cat_label is \"ethnicity\":\n",
    "        temp = pd.get_dummies(data[cat_label], drop_first=False)\n",
    "    else:\n",
    "        temp = pd.get_dummies(data[cat_label], drop_first=True)\n",
    "    name_dict = {old_name:cat_label + \"_\" + str(old_name) for old_name in temp.columns}\n",
    "    temp.rename(columns=name_dict,inplace=True)\n",
    "    data = pd.concat((data, temp),axis=1)\n",
    "\n",
    "# Rescale tonsilsize from 0-4 to 0-1 (0 for 0-2 and 1 for 3-4)\n",
    "data['tonsilsize_3-4'] = data['tonsilsize'].replace(to_replace=[0,1,2,3,4], value=[0,0,0,1,1])\n",
    "\n",
    "# Create final dataset\n",
    "data_final = data[final_variables].copy()"
   ]
  },
  {
   "cell_type": "code",
   "execution_count": 65,
   "metadata": {
    "collapsed": false
   },
   "outputs": [],
   "source": [
    "# Save data\n",
    "output_path_base = '/Users/' + getuser() + '/Documents/Rhodes/RAIL/apnea_dev/data'\n",
    "\n",
    "if not os.path.exists(output_path_base):\n",
    "    os.makedirs(output_path_base)\n",
    "\n",
    "output_path = os.path.join(output_path_base,'umd_data_standard.csv')\n",
    "data_final.to_csv(output_path, index_label=False)"
   ]
  }
 ],
 "metadata": {
  "kernelspec": {
   "display_name": "Python [default]",
   "language": "python",
   "name": "python3"
  },
  "language_info": {
   "codemirror_mode": {
    "name": "ipython",
    "version": 3
   },
   "file_extension": ".py",
   "mimetype": "text/x-python",
   "name": "python",
   "nbconvert_exporter": "python",
   "pygments_lexer": "ipython3",
   "version": "3.5.2"
  }
 },
 "nbformat": 4,
 "nbformat_minor": 2
}
